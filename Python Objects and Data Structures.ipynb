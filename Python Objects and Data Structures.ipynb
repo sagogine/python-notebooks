{
 "cells": [
  {
   "cell_type": "markdown",
   "metadata": {},
   "source": [
    "# Datatypes\n",
    "| Name               | Type        | Description\n",
    "|:------------------- |:--------------|:---------------------------------------------------------------------------\n",
    "| Integers           | int          | Whole numbers 3, 300, 200\n",
    "| Floating Point     | float        | Numbers with decimal 2.4 4.6 100.1\n",
    "| String             | str          | **Ordered** sequence of characters : \"python\", \"anaconda\"\n",
    "| Lists              | list         | **Ordered** sequence of obejcts : [10, \"Hello\", 20.1]\n",
    "| Dictionaries       | dict         | **Unordered** key value paits : {\"language\":\"python\", \"editor\":\"Jupyter\"}\n",
    "| Tuples             | tup          | **Ordered** immutable sequence of objects : (10,\"hello\", 20.1)\n",
    "| Sets               | set          | **Unordered** collection of **unique** objects : {\"a\",\"b\"}\n",
    "| Boolean            | bool         | Logical value indicating True or False\n"
   ]
  },
  {
   "cell_type": "markdown",
   "metadata": {},
   "source": [
    "# Operators"
   ]
  },
  {
   "cell_type": "code",
   "execution_count": 1,
   "metadata": {},
   "outputs": [],
   "source": [
    "# Addtion + \n",
    "2 + 1"
   ]
  },
  {
   "cell_type": "code",
   "execution_count": 2,
   "metadata": {},
   "outputs": [
    {
     "data": {
      "text/plain": [
       "1"
      ]
     },
     "execution_count": 2,
     "metadata": {},
     "output_type": "execute_result"
    }
   ],
   "source": [
    "# Subtraction - \n",
    "3 - 2"
   ]
  },
  {
   "cell_type": "code",
   "execution_count": 3,
   "metadata": {},
   "outputs": [
    {
     "data": {
      "text/plain": [
       "12"
      ]
     },
     "execution_count": 3,
     "metadata": {},
     "output_type": "execute_result"
    }
   ],
   "source": [
    "# Multiplication *\n",
    "3 * 4"
   ]
  },
  {
   "cell_type": "code",
   "execution_count": 4,
   "metadata": {},
   "outputs": [
    {
     "data": {
      "text/plain": [
       "2.0"
      ]
     },
     "execution_count": 4,
     "metadata": {},
     "output_type": "execute_result"
    }
   ],
   "source": [
    "# Division /\n",
    "6 / 3"
   ]
  },
  {
   "cell_type": "code",
   "execution_count": 5,
   "metadata": {},
   "outputs": [
    {
     "data": {
      "text/plain": [
       "3"
      ]
     },
     "execution_count": 5,
     "metadata": {},
     "output_type": "execute_result"
    }
   ],
   "source": [
    "#Modulo Operator %\n",
    "7 % 4"
   ]
  },
  {
   "cell_type": "code",
   "execution_count": 6,
   "metadata": {},
   "outputs": [
    {
     "data": {
      "text/plain": [
       "8"
      ]
     },
     "execution_count": 6,
     "metadata": {},
     "output_type": "execute_result"
    }
   ],
   "source": [
    "# power **\n",
    "2**3"
   ]
  },
  {
   "cell_type": "code",
   "execution_count": 7,
   "metadata": {},
   "outputs": [
    {
     "data": {
      "text/plain": [
       "14.0"
      ]
     },
     "execution_count": 7,
     "metadata": {},
     "output_type": "execute_result"
    }
   ],
   "source": [
    "#Order of precedence - PEDMAS (Paranthesis, Exponential, Division, Multiplication, Addition, Subtraction)\n",
    "2**(2+1)+4/2*3"
   ]
  },
  {
   "cell_type": "markdown",
   "metadata": {},
   "source": [
    "# Variables"
   ]
  },
  {
   "cell_type": "code",
   "execution_count": 8,
   "metadata": {},
   "outputs": [
    {
     "name": "stdout",
     "output_type": "stream",
     "text": [
      "194714 <class 'int'>\n",
      "['ab', 'xy'] <class 'list'>\n"
     ]
    }
   ],
   "source": [
    "# Python uses dynamic typing - This means you can assign different data types to the same variable\n",
    "\n",
    "my_vars = 194714\n",
    "print(my_vars, type(my_vars)) # type() -> gives the datatype of that variable\n",
    "\n",
    "my_vars = [\"ab\", \"xy\"]\n",
    "print(my_vars, type(my_vars))\n",
    "\n",
    "# Variable assgigment has changed from integer to list but it due to dynamic typing in python , we can change it."
   ]
  },
  {
   "cell_type": "markdown",
   "metadata": {},
   "source": [
    "# Strings"
   ]
  },
  {
   "cell_type": "code",
   "execution_count": 9,
   "metadata": {},
   "outputs": [
    {
     "data": {
      "text/plain": [
       "\"Use double quote to escape ' in the sentence\""
      ]
     },
     "execution_count": 9,
     "metadata": {},
     "output_type": "execute_result"
    }
   ],
   "source": [
    "'python'\n",
    "\"Anaconda\"\n",
    "\"Use double quote to escape ' in the sentence\""
   ]
  },
  {
   "cell_type": "markdown",
   "metadata": {},
   "source": [
    "\n",
    "### Strings are ordered sequences\n",
    "\n",
    "1. We can use indexing and slicing to get to grab a subsection of the string\n",
    "\n",
    " ` Character     : P   Y   T   H   O   N\n",
    "   Index         : 0   1   2   3   4   5\n",
    "   Reverse Index : 0  -5  -4  -3  -2  -1`\n",
    "   \n",
    "2. Slicing gets the subsection fo the string - Here is the syntax[start:stop:step]\n",
    "      \n",
    "      - start : index to start slicing\n",
    "      - stop  : index you will go until but doesn't include that\n",
    "      - step  : size of the jump. This is a vector, it gives the magnitude and direction of the jump. Positive step jumps left to right. Negative step jumps right to left\n"
   ]
  },
  {
   "cell_type": "code",
   "execution_count": 10,
   "metadata": {},
   "outputs": [],
   "source": [
    "myString = \"Hello World\""
   ]
  },
  {
   "cell_type": "markdown",
   "metadata": {},
   "source": [
    "` Character       : H   e   l   l   o       W   o   r   l   d\n",
    "   Index         : 0   1   2   3   4   5   6   7   8   9   10\n",
    "   Reverse Index : 0  -10 -9  -8  -7  -6  -5  -4  -3  -2  -1`"
   ]
  },
  {
   "cell_type": "code",
   "execution_count": 11,
   "metadata": {},
   "outputs": [
    {
     "data": {
      "text/plain": [
       "'W'"
      ]
     },
     "execution_count": 11,
     "metadata": {},
     "output_type": "execute_result"
    }
   ],
   "source": [
    "myString[6]\n",
    "# Prints the character at index 6"
   ]
  },
  {
   "cell_type": "code",
   "execution_count": 12,
   "metadata": {},
   "outputs": [
    {
     "data": {
      "text/plain": [
       "'r'"
      ]
     },
     "execution_count": 12,
     "metadata": {},
     "output_type": "execute_result"
    }
   ],
   "source": [
    "myString[8]"
   ]
  },
  {
   "cell_type": "code",
   "execution_count": 13,
   "metadata": {},
   "outputs": [
    {
     "data": {
      "text/plain": [
       "'d'"
      ]
     },
     "execution_count": 13,
     "metadata": {},
     "output_type": "execute_result"
    }
   ],
   "source": [
    "myString[-1]\n",
    "# Prints the character at index -1 as represented above for reverse index"
   ]
  },
  {
   "cell_type": "code",
   "execution_count": 14,
   "metadata": {},
   "outputs": [
    {
     "data": {
      "text/plain": [
       "'l'"
      ]
     },
     "execution_count": 14,
     "metadata": {},
     "output_type": "execute_result"
    }
   ],
   "source": [
    "myString[-9]"
   ]
  },
  {
   "cell_type": "code",
   "execution_count": 15,
   "metadata": {},
   "outputs": [
    {
     "data": {
      "text/plain": [
       "'Hello'"
      ]
     },
     "execution_count": 15,
     "metadata": {},
     "output_type": "execute_result"
    }
   ],
   "source": [
    "myString[0:5:1]\n",
    "# Prints the subset of string from 0 to 4 (5 not included) in increments of 1 letter hops"
   ]
  },
  {
   "cell_type": "code",
   "execution_count": 16,
   "metadata": {},
   "outputs": [
    {
     "data": {
      "text/plain": [
       "'HloWr'"
      ]
     },
     "execution_count": 16,
     "metadata": {},
     "output_type": "execute_result"
    }
   ],
   "source": [
    "myString[0:10:2]\n",
    "# Prints the subset of string from 0 to 8 (10 not included) in increments of 2 letter hops"
   ]
  },
  {
   "cell_type": "code",
   "execution_count": 17,
   "metadata": {},
   "outputs": [
    {
     "data": {
      "text/plain": [
       "'dlroW olle'"
      ]
     },
     "execution_count": 17,
     "metadata": {},
     "output_type": "execute_result"
    }
   ],
   "source": [
    "myString[-1:0:-1]\n",
    "# Prints the subset of string from -1 to -10 (0 not included) in increments of 1 letter hops in reverse direction"
   ]
  },
  {
   "cell_type": "code",
   "execution_count": 18,
   "metadata": {},
   "outputs": [
    {
     "data": {
      "text/plain": [
       "'lo World'"
      ]
     },
     "execution_count": 18,
     "metadata": {},
     "output_type": "execute_result"
    }
   ],
   "source": [
    "myString[3:]\n",
    "# Prints the subset of string from 3 to end in increments of 1 letter hops"
   ]
  },
  {
   "cell_type": "code",
   "execution_count": 19,
   "metadata": {},
   "outputs": [
    {
     "data": {
      "text/plain": [
       "'Hel'"
      ]
     },
     "execution_count": 19,
     "metadata": {},
     "output_type": "execute_result"
    }
   ],
   "source": [
    "myString[:3]\n",
    "# Prints the subset of string from 0 to 2 (3 not included) in increments of 1 letter hops"
   ]
  },
  {
   "cell_type": "code",
   "execution_count": 20,
   "metadata": {},
   "outputs": [
    {
     "name": "stdout",
     "output_type": "stream",
     "text": [
      "hello \n",
      " world\n",
      "hello \t world\n"
     ]
    }
   ],
   "source": [
    "# Escape sequences\n",
    "# \\n new line\n",
    "# \\t tab spaces\n",
    "print('hello \\n world')\n",
    "print ('hello \\t world')"
   ]
  },
  {
   "cell_type": "code",
   "execution_count": 21,
   "metadata": {},
   "outputs": [
    {
     "data": {
      "text/plain": [
       "20"
      ]
     },
     "execution_count": 21,
     "metadata": {},
     "output_type": "execute_result"
    }
   ],
   "source": [
    "# Get the length of string\n",
    "len(\"I am learning python\")"
   ]
  },
  {
   "cell_type": "markdown",
   "metadata": {},
   "source": [
    "### String Properties and Methods\n",
    "- Strings are immutable\n",
    "- '+' is the concatination operator\n",
    "- '*' repeat the concatination multiple times\n",
    " > type a dot(.) after the string variable and pressing tab gives a list of functions\n",
    "- upper() - converts to upper case\n",
    "- lower() - converts to lower case\n",
    "- split() - splits the string into list based on the white space or character passed. Also, it removes the character passed as the argument\n",
    "- format() - formats strings by passing arguments"
   ]
  },
  {
   "cell_type": "code",
   "execution_count": 22,
   "metadata": {},
   "outputs": [],
   "source": [
    "name = \"Sam\"\n",
    "last_letters = name[1:]"
   ]
  },
  {
   "cell_type": "code",
   "execution_count": 23,
   "metadata": {},
   "outputs": [
    {
     "data": {
      "text/plain": [
       "'Pam'"
      ]
     },
     "execution_count": 23,
     "metadata": {},
     "output_type": "execute_result"
    }
   ],
   "source": [
    "# + concatination operator\n",
    "'P'+ last_letters"
   ]
  },
  {
   "cell_type": "code",
   "execution_count": 24,
   "metadata": {},
   "outputs": [
    {
     "data": {
      "text/plain": [
       "'amamamamamamamamamam'"
      ]
     },
     "execution_count": 24,
     "metadata": {},
     "output_type": "execute_result"
    }
   ],
   "source": [
    "# '*' repeat the concatenation multiple times\n",
    "last_letters*10"
   ]
  },
  {
   "cell_type": "code",
   "execution_count": 25,
   "metadata": {},
   "outputs": [],
   "source": [
    "st = \"Python is a funny language\""
   ]
  },
  {
   "cell_type": "code",
   "execution_count": 26,
   "metadata": {},
   "outputs": [
    {
     "name": "stdout",
     "output_type": "stream",
     "text": [
      "PYTHON IS A FUNNY LANGUAGE\n",
      "['Python', 'is', 'a', 'funny', 'language']\n",
      "['Pytho', ' is a fu', '', 'y la', 'guage']\n"
     ]
    }
   ],
   "source": [
    "print(st.upper()) # Convert to upper\n",
    "\n",
    "print(st.split()) # Split by white spaces\n",
    "\n",
    "print(st.split('n')) # Split by letter n\n"
   ]
  },
  {
   "cell_type": "code",
   "execution_count": 27,
   "metadata": {},
   "outputs": [
    {
     "name": "stdout",
     "output_type": "stream",
     "text": [
      "This is a String Inserted\n",
      "The fox brown quick\n",
      "The quick brown fox\n",
      "The fox brown fox\n",
      "The quick brown fox\n"
     ]
    }
   ],
   "source": [
    "# Passed argument in the format method gets appended wherever we have curly braces\n",
    "print('This is a String {}'.format('Inserted')) \n",
    "\n",
    "# Passed arguments are inserted into string in the order they are passed to format method\n",
    "print('The {} {} {}'.format('fox','brown','quick'))\n",
    "\n",
    "# We can define the order in the curly braces and parameters passed in the method gets inserted accordingly\n",
    "print('The {2} {1} {0}'.format('fox','brown','quick'))\n",
    "\n",
    "# We can repeat the arguments\n",
    "print('The {0} {1} {0}'.format('fox','brown','quick'))\n",
    "\n",
    "# We can assing the keywords\n",
    "print('The {q} {b} {f}'.format(f='fox',b='brown',q='quick'))"
   ]
  },
  {
   "cell_type": "code",
   "execution_count": 28,
   "metadata": {},
   "outputs": [
    {
     "name": "stdout",
     "output_type": "stream",
     "text": [
      "The result was 0.129\n"
     ]
    }
   ],
   "source": [
    "#Syntax - value:width.precisionf\n",
    "\n",
    "# value     - keyword passed in the curly braces\n",
    "# width     - adds so many white spaces, describer how long we want that value to be  \n",
    "# precision - number of digits after decimal\n",
    "# f         - float formatting\n",
    "\n",
    "result = 100/777\n",
    "print('The result was {r:1.3f}'.format(r=result))"
   ]
  },
  {
   "cell_type": "code",
   "execution_count": 29,
   "metadata": {},
   "outputs": [
    {
     "name": "stdout",
     "output_type": "stream",
     "text": [
      "My favourite language is Python\n",
      "My favourite language is Python 3.6\n"
     ]
    }
   ],
   "source": [
    "# f-strings - Same as format, it's new in 3.6 version of python.\n",
    "\n",
    "lang = 'Python'\n",
    "version = 3.6\n",
    "print(f'My favourite language is {lang}')\n",
    "\n",
    "print(f'My favourite language is {lang} {version}')\n"
   ]
  },
  {
   "cell_type": "markdown",
   "metadata": {},
   "source": [
    "# Lists\n",
    "- Ordered sequences that can hold different object types\n",
    "- [] to declare and commas to seperate the objects\n",
    "- Lists support indexing and slicing\n",
    "- Lists can be nested ! "
   ]
  },
  {
   "cell_type": "code",
   "execution_count": 30,
   "metadata": {},
   "outputs": [],
   "source": [
    "mylist = [1,2,3,4,5,6,7,8,9,10]\n",
    "myList_different_types = [\"Python\",3.6,2021]"
   ]
  },
  {
   "cell_type": "code",
   "execution_count": 31,
   "metadata": {},
   "outputs": [
    {
     "data": {
      "text/plain": [
       "10"
      ]
     },
     "execution_count": 31,
     "metadata": {},
     "output_type": "execute_result"
    }
   ],
   "source": [
    "# returs the length of list\n",
    "len(mylist)"
   ]
  },
  {
   "cell_type": "code",
   "execution_count": 32,
   "metadata": {},
   "outputs": [
    {
     "name": "stdout",
     "output_type": "stream",
     "text": [
      "3\n",
      "[3, 4, 5, 6, 7, 8, 9, 10]\n",
      "[3, 5, 7, 9]\n",
      "[1, 2, 3, 4, 5, 6, 7, 8, 9, 10, 'Python', 3.6, 2021]\n"
     ]
    }
   ],
   "source": [
    "# return the object at that index\n",
    "print(mylist[2])\n",
    "\n",
    "# Slice the list similar to String\n",
    "print(mylist[2:])\n",
    "print(mylist[2:10:2])\n",
    "\n",
    "# Concatenate lists\n",
    "print(mylist + myList_different_types)"
   ]
  },
  {
   "cell_type": "code",
   "execution_count": 33,
   "metadata": {},
   "outputs": [
    {
     "name": "stdout",
     "output_type": "stream",
     "text": [
      "[1, 2, 3, 30, 5, 6, 7, 8, 9, 10]\n",
      "[1, 2, 3, 30, 5, 6, 7, 8, 9, 10, 'hello']\n"
     ]
    }
   ],
   "source": [
    "#List is mutable (unlike strings) and elements in the list could be reassgined\n",
    "\n",
    "mylist[3]=30\n",
    "print(mylist)\n",
    "\n",
    "#Appends an object to the end of the list\n",
    "mylist.append(\"hello\")\n",
    "print(mylist)\n",
    "\n"
   ]
  },
  {
   "cell_type": "code",
   "execution_count": 34,
   "metadata": {},
   "outputs": [
    {
     "name": "stdout",
     "output_type": "stream",
     "text": [
      "hello\n",
      "[1, 2, 3, 30, 5, 6, 7, 8, 9, 10]\n",
      "1\n",
      "[2, 3, 30, 5, 6, 7, 8, 9, 10]\n"
     ]
    }
   ],
   "source": [
    "#removes the last element in the list and returns the popped element\n",
    "print(mylist.pop())\n",
    "print(mylist)\n",
    "\n",
    "#passing the index pops the element at that index, negative index works similar to String method\n",
    "print(mylist.pop(0))\n",
    "print(mylist)"
   ]
  },
  {
   "cell_type": "code",
   "execution_count": 35,
   "metadata": {},
   "outputs": [
    {
     "name": "stdout",
     "output_type": "stream",
     "text": [
      "[2, 3, 5, 6, 7, 8, 9, 10, 30]\n"
     ]
    },
    {
     "ename": "TypeError",
     "evalue": "'<' not supported between instances of 'float' and 'str'",
     "output_type": "error",
     "traceback": [
      "\u001b[0;31m---------------------------------------------------------------------------\u001b[0m",
      "\u001b[0;31mTypeError\u001b[0m                                 Traceback (most recent call last)",
      "\u001b[0;32m<ipython-input-35-abf380a377ef>\u001b[0m in \u001b[0;36m<module>\u001b[0;34m\u001b[0m\n\u001b[1;32m      2\u001b[0m \u001b[0mprint\u001b[0m\u001b[0;34m(\u001b[0m\u001b[0mmylist\u001b[0m\u001b[0;34m)\u001b[0m\u001b[0;34m\u001b[0m\u001b[0;34m\u001b[0m\u001b[0m\n\u001b[1;32m      3\u001b[0m \u001b[0;34m\u001b[0m\u001b[0m\n\u001b[0;32m----> 4\u001b[0;31m \u001b[0mmyList_different_types\u001b[0m\u001b[0;34m.\u001b[0m\u001b[0msort\u001b[0m\u001b[0;34m(\u001b[0m\u001b[0;34m)\u001b[0m\u001b[0;34m\u001b[0m\u001b[0;34m\u001b[0m\u001b[0m\n\u001b[0m\u001b[1;32m      5\u001b[0m \u001b[0mprint\u001b[0m\u001b[0;34m(\u001b[0m\u001b[0mmyList_different_types\u001b[0m\u001b[0;34m)\u001b[0m\u001b[0;34m\u001b[0m\u001b[0;34m\u001b[0m\u001b[0m\n",
      "\u001b[0;31mTypeError\u001b[0m: '<' not supported between instances of 'float' and 'str'"
     ]
    }
   ],
   "source": [
    "mylist.sort()\n",
    "print(mylist)\n",
    "\n",
    "myList_different_types.sort()\n",
    "print(myList_different_types)"
   ]
  },
  {
   "cell_type": "code",
   "execution_count": null,
   "metadata": {},
   "outputs": [],
   "source": []
  }
 ],
 "metadata": {
  "kernelspec": {
   "display_name": "Python 3",
   "language": "python",
   "name": "python3"
  },
  "language_info": {
   "codemirror_mode": {
    "name": "ipython",
    "version": 3
   },
   "file_extension": ".py",
   "mimetype": "text/x-python",
   "name": "python",
   "nbconvert_exporter": "python",
   "pygments_lexer": "ipython3",
   "version": "3.8.5"
  }
 },
 "nbformat": 4,
 "nbformat_minor": 4
}
