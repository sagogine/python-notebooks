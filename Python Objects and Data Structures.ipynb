{
 "cells": [
  {
   "cell_type": "markdown",
   "metadata": {},
   "source": [
    "# Datatypes\n",
    "| Name               | Type        | Description\n",
    "|:------------------- |:--------------|:---------------------------------------------------------------------------\n",
    "| Integers           | int          | Whole numbers 3, 300, 200\n",
    "| Floating Point     | float        | Numbers with decimal 2.4 4.6 100.1\n",
    "| String             | str          | **Ordered** sequence of characters : \"python\", \"anaconda\"\n",
    "| Lists              | list         | **Ordered** sequence of obejcts : [10, \"Hello\", 20.1]\n",
    "| Dictionaries       | dict         | **Unordered** key value paits : {\"language\":\"python\", \"editor\":\"Jupyter\"}\n",
    "| Tuples             | tup          | **Ordered** immutable sequence of objects : (10,\"hello\", 20.1)\n",
    "| Sets               | set          | **Unordered** collection of **unique** objects : {\"a\",\"b\"}\n",
    "| Boolean            | bool         | Logical value indicating True or False\n"
   ]
  },
  {
   "cell_type": "markdown",
   "metadata": {},
   "source": [
    "# Operators"
   ]
  },
  {
   "cell_type": "code",
   "execution_count": 1,
   "metadata": {},
   "outputs": [
    {
     "data": {
      "text/plain": [
       "3"
      ]
     },
     "execution_count": 1,
     "metadata": {},
     "output_type": "execute_result"
    }
   ],
   "source": [
    "# Addtion + \n",
    "2 + 1"
   ]
  },
  {
   "cell_type": "code",
   "execution_count": 2,
   "metadata": {},
   "outputs": [
    {
     "data": {
      "text/plain": [
       "1"
      ]
     },
     "execution_count": 2,
     "metadata": {},
     "output_type": "execute_result"
    }
   ],
   "source": [
    "# Subtraction - \n",
    "3 - 2"
   ]
  },
  {
   "cell_type": "code",
   "execution_count": 3,
   "metadata": {},
   "outputs": [
    {
     "data": {
      "text/plain": [
       "12"
      ]
     },
     "execution_count": 3,
     "metadata": {},
     "output_type": "execute_result"
    }
   ],
   "source": [
    "# Multiplication *\n",
    "3 * 4"
   ]
  },
  {
   "cell_type": "code",
   "execution_count": 4,
   "metadata": {},
   "outputs": [
    {
     "data": {
      "text/plain": [
       "2.0"
      ]
     },
     "execution_count": 4,
     "metadata": {},
     "output_type": "execute_result"
    }
   ],
   "source": [
    "# Division /\n",
    "6 / 3"
   ]
  },
  {
   "cell_type": "code",
   "execution_count": 5,
   "metadata": {},
   "outputs": [
    {
     "data": {
      "text/plain": [
       "3"
      ]
     },
     "execution_count": 5,
     "metadata": {},
     "output_type": "execute_result"
    }
   ],
   "source": [
    "#Modulo Operator %\n",
    "7 % 4"
   ]
  },
  {
   "cell_type": "code",
   "execution_count": 6,
   "metadata": {},
   "outputs": [
    {
     "data": {
      "text/plain": [
       "8"
      ]
     },
     "execution_count": 6,
     "metadata": {},
     "output_type": "execute_result"
    }
   ],
   "source": [
    "# power **\n",
    "2**3"
   ]
  },
  {
   "cell_type": "code",
   "execution_count": 7,
   "metadata": {},
   "outputs": [
    {
     "data": {
      "text/plain": [
       "14.0"
      ]
     },
     "execution_count": 7,
     "metadata": {},
     "output_type": "execute_result"
    }
   ],
   "source": [
    "#Order of precedence - PEDMAS (Paranthesis, Exponential, Division, Multiplication, Addition, Subtraction)\n",
    "2**(2+1)+4/2*3"
   ]
  },
  {
   "cell_type": "markdown",
   "metadata": {},
   "source": [
    "# Variables"
   ]
  },
  {
   "cell_type": "code",
   "execution_count": 8,
   "metadata": {},
   "outputs": [
    {
     "name": "stdout",
     "output_type": "stream",
     "text": [
      "194714 <class 'int'>\n",
      "['ab', 'xy'] <class 'list'>\n"
     ]
    }
   ],
   "source": [
    "# Python uses dynamic typing - This means you can assign different data types to the same variable\n",
    "\n",
    "my_vars = 194714\n",
    "print(my_vars, type(my_vars)) # type() -> gives the datatype of that variable\n",
    "\n",
    "my_vars = [\"ab\", \"xy\"]\n",
    "print(my_vars, type(my_vars))\n",
    "\n",
    "# Variable assgigment has changed from integer to list but it due to dynamic typing in python , we can change it."
   ]
  },
  {
   "cell_type": "markdown",
   "metadata": {},
   "source": [
    "# Strings"
   ]
  },
  {
   "cell_type": "code",
   "execution_count": 9,
   "metadata": {},
   "outputs": [
    {
     "data": {
      "text/plain": [
       "\"Use double quote to escape ' in the sentence\""
      ]
     },
     "execution_count": 9,
     "metadata": {},
     "output_type": "execute_result"
    }
   ],
   "source": [
    "'python'\n",
    "\"Anaconda\"\n",
    "\"Use double quote to escape ' in the sentence\""
   ]
  },
  {
   "cell_type": "markdown",
   "metadata": {},
   "source": [
    "\n",
    "### Strings are ordered sequences\n",
    "\n",
    "1. We can use indexing and slicing to get to grab a subsection of the string\n",
    "\n",
    " ` Character     : P   Y   T   H   O   N\n",
    "   Index         : 0   1   2   3   4   5\n",
    "   Reverse Index : 0  -5  -4  -3  -2  -1`\n",
    "   \n",
    "2. Slicing gets the subsection fo the string - Here is the syntax[start:stop:step]\n",
    "      \n",
    "      - start : index to start slicing\n",
    "      - stop  : index you will go until but doesn't include that\n",
    "      - step  : size of the jump. This is a vector, it gives the magnitude and direction of the jump. Positive step jumps left to right. Negative step jumps right to left\n"
   ]
  },
  {
   "cell_type": "code",
   "execution_count": 10,
   "metadata": {},
   "outputs": [],
   "source": [
    "myString = \"Hello World\""
   ]
  },
  {
   "cell_type": "markdown",
   "metadata": {},
   "source": [
    "` Character       : H   e   l   l   o       W   o   r   l   d\n",
    "   Index         : 0   1   2   3   4   5   6   7   8   9   10\n",
    "   Reverse Index : 0  -10 -9  -8  -7  -6  -5  -4  -3  -2  -1`"
   ]
  },
  {
   "cell_type": "code",
   "execution_count": 11,
   "metadata": {},
   "outputs": [
    {
     "data": {
      "text/plain": [
       "'W'"
      ]
     },
     "execution_count": 11,
     "metadata": {},
     "output_type": "execute_result"
    }
   ],
   "source": [
    "myString[6]\n",
    "# Prints the character at index 6"
   ]
  },
  {
   "cell_type": "code",
   "execution_count": 12,
   "metadata": {},
   "outputs": [
    {
     "data": {
      "text/plain": [
       "'r'"
      ]
     },
     "execution_count": 12,
     "metadata": {},
     "output_type": "execute_result"
    }
   ],
   "source": [
    "myString[8]"
   ]
  },
  {
   "cell_type": "code",
   "execution_count": 13,
   "metadata": {},
   "outputs": [
    {
     "data": {
      "text/plain": [
       "'d'"
      ]
     },
     "execution_count": 13,
     "metadata": {},
     "output_type": "execute_result"
    }
   ],
   "source": [
    "myString[-1]\n",
    "# Prints the character at index -1 as represented above for reverse index"
   ]
  },
  {
   "cell_type": "code",
   "execution_count": 14,
   "metadata": {},
   "outputs": [
    {
     "data": {
      "text/plain": [
       "'l'"
      ]
     },
     "execution_count": 14,
     "metadata": {},
     "output_type": "execute_result"
    }
   ],
   "source": [
    "myString[-9]"
   ]
  },
  {
   "cell_type": "code",
   "execution_count": 15,
   "metadata": {},
   "outputs": [
    {
     "data": {
      "text/plain": [
       "'Hello'"
      ]
     },
     "execution_count": 15,
     "metadata": {},
     "output_type": "execute_result"
    }
   ],
   "source": [
    "myString[0:5:1]\n",
    "# Prints the subset of string from 0 to 4 (5 not included) in increments of 1 letter hops"
   ]
  },
  {
   "cell_type": "code",
   "execution_count": 16,
   "metadata": {},
   "outputs": [
    {
     "data": {
      "text/plain": [
       "'HloWr'"
      ]
     },
     "execution_count": 16,
     "metadata": {},
     "output_type": "execute_result"
    }
   ],
   "source": [
    "myString[0:10:2]\n",
    "# Prints the subset of string from 0 to 8 (10 not included) in increments of 2 letter hops"
   ]
  },
  {
   "cell_type": "code",
   "execution_count": 17,
   "metadata": {},
   "outputs": [
    {
     "data": {
      "text/plain": [
       "'dlroW olle'"
      ]
     },
     "execution_count": 17,
     "metadata": {},
     "output_type": "execute_result"
    }
   ],
   "source": [
    "myString[-1:0:-1]\n",
    "# Prints the subset of string from -1 to -10 (0 not included) in increments of 1 letter hops in reverse direction"
   ]
  },
  {
   "cell_type": "code",
   "execution_count": 18,
   "metadata": {},
   "outputs": [
    {
     "data": {
      "text/plain": [
       "'lo World'"
      ]
     },
     "execution_count": 18,
     "metadata": {},
     "output_type": "execute_result"
    }
   ],
   "source": [
    "myString[3:]\n",
    "# Prints the subset of string from 3 to end in increments of 1 letter hops"
   ]
  },
  {
   "cell_type": "code",
   "execution_count": 19,
   "metadata": {},
   "outputs": [
    {
     "data": {
      "text/plain": [
       "'Hel'"
      ]
     },
     "execution_count": 19,
     "metadata": {},
     "output_type": "execute_result"
    }
   ],
   "source": [
    "myString[:3]\n",
    "# Prints the subset of string from 0 to 2 (3 not included) in increments of 1 letter hops"
   ]
  },
  {
   "cell_type": "code",
   "execution_count": 20,
   "metadata": {},
   "outputs": [
    {
     "name": "stdout",
     "output_type": "stream",
     "text": [
      "hello \n",
      " world\n",
      "hello \t world\n"
     ]
    }
   ],
   "source": [
    "# Escape sequences\n",
    "# \\n new line\n",
    "# \\t tab spaces\n",
    "print('hello \\n world')\n",
    "print ('hello \\t world')"
   ]
  },
  {
   "cell_type": "code",
   "execution_count": 21,
   "metadata": {},
   "outputs": [
    {
     "data": {
      "text/plain": [
       "20"
      ]
     },
     "execution_count": 21,
     "metadata": {},
     "output_type": "execute_result"
    }
   ],
   "source": [
    "# Get the length of string\n",
    "len(\"I am learning python\")"
   ]
  },
  {
   "cell_type": "markdown",
   "metadata": {},
   "source": [
    "### String Properties and Methods\n",
    "- Strings are immutable\n",
    "- '+' is the concatination operator\n",
    "- '*' repeat the concatination multiple times\n",
    " > type a dot(.) after the string variable and pressing tab gives a list of functions\n",
    "- upper() - converts to upper case\n",
    "- lower() - converts to lower case\n",
    "- split() - splits the string into list based on the white space or character passed. Also, it removes the character passed as the argument\n",
    "- format() - formats strings by passing arguments"
   ]
  },
  {
   "cell_type": "code",
   "execution_count": 22,
   "metadata": {},
   "outputs": [],
   "source": [
    "name = \"Sam\"\n",
    "last_letters = name[1:]"
   ]
  },
  {
   "cell_type": "code",
   "execution_count": 23,
   "metadata": {},
   "outputs": [
    {
     "data": {
      "text/plain": [
       "'Pam'"
      ]
     },
     "execution_count": 23,
     "metadata": {},
     "output_type": "execute_result"
    }
   ],
   "source": [
    "# + concatination operator\n",
    "'P'+ last_letters"
   ]
  },
  {
   "cell_type": "code",
   "execution_count": 24,
   "metadata": {},
   "outputs": [
    {
     "data": {
      "text/plain": [
       "'amamamamamamamamamam'"
      ]
     },
     "execution_count": 24,
     "metadata": {},
     "output_type": "execute_result"
    }
   ],
   "source": [
    "# '*' repeat the concatenation multiple times\n",
    "last_letters*10"
   ]
  },
  {
   "cell_type": "code",
   "execution_count": 25,
   "metadata": {},
   "outputs": [],
   "source": [
    "st = \"Python is a funny language\""
   ]
  },
  {
   "cell_type": "code",
   "execution_count": 26,
   "metadata": {},
   "outputs": [
    {
     "name": "stdout",
     "output_type": "stream",
     "text": [
      "PYTHON IS A FUNNY LANGUAGE\n",
      "['Python', 'is', 'a', 'funny', 'language']\n",
      "['Pytho', ' is a fu', '', 'y la', 'guage']\n"
     ]
    }
   ],
   "source": [
    "print(st.upper()) # Convert to upper\n",
    "\n",
    "print(st.split()) # Split by white spaces\n",
    "\n",
    "print(st.split('n')) # Split by letter n\n"
   ]
  },
  {
   "cell_type": "code",
   "execution_count": 27,
   "metadata": {},
   "outputs": [
    {
     "name": "stdout",
     "output_type": "stream",
     "text": [
      "This is a String Inserted\n",
      "The fox brown quick\n",
      "The quick brown fox\n",
      "The fox brown fox\n",
      "The quick brown fox\n"
     ]
    }
   ],
   "source": [
    "# Passed argument in the format method gets appended wherever we have curly braces\n",
    "print('This is a String {}'.format('Inserted')) \n",
    "\n",
    "# Passed arguments are inserted into string in the order they are passed to format method\n",
    "print('The {} {} {}'.format('fox','brown','quick'))\n",
    "\n",
    "# We can define the order in the curly braces and parameters passed in the method gets inserted accordingly\n",
    "print('The {2} {1} {0}'.format('fox','brown','quick'))\n",
    "\n",
    "# We can repeat the arguments\n",
    "print('The {0} {1} {0}'.format('fox','brown','quick'))\n",
    "\n",
    "# We can assing the keywords\n",
    "print('The {q} {b} {f}'.format(f='fox',b='brown',q='quick'))"
   ]
  },
  {
   "cell_type": "code",
   "execution_count": 28,
   "metadata": {},
   "outputs": [
    {
     "name": "stdout",
     "output_type": "stream",
     "text": [
      "The result was 0.129\n"
     ]
    }
   ],
   "source": [
    "#Syntax - value:width.precisionf\n",
    "\n",
    "# value     - keyword passed in the curly braces\n",
    "# width     - adds so many white spaces, describer how long we want that value to be  \n",
    "# precision - number of digits after decimal\n",
    "# f         - float formatting\n",
    "\n",
    "result = 100/777\n",
    "print('The result was {r:1.3f}'.format(r=result))"
   ]
  },
  {
   "cell_type": "code",
   "execution_count": 29,
   "metadata": {},
   "outputs": [
    {
     "name": "stdout",
     "output_type": "stream",
     "text": [
      "My favourite language is Python\n",
      "My favourite language is Python 3.6\n"
     ]
    }
   ],
   "source": [
    "# f-strings - Same as format, it's new in 3.6 version of python.\n",
    "\n",
    "lang = 'Python'\n",
    "version = 3.6\n",
    "print(f'My favourite language is {lang}')\n",
    "\n",
    "print(f'My favourite language is {lang} {version}')\n"
   ]
  },
  {
   "cell_type": "markdown",
   "metadata": {},
   "source": [
    "# Lists\n",
    "- Ordered sequences that can hold different object types\n",
    "- [] to declare and commas to seperate the objects\n",
    "- Lists support indexing and slicing\n",
    "- Lists can be nested ! "
   ]
  },
  {
   "cell_type": "code",
   "execution_count": 30,
   "metadata": {},
   "outputs": [],
   "source": [
    "mylist = [1,2,3,4,5,6,7,8,9,10]\n",
    "myList_different_types = [\"Python\",3.6,2021]"
   ]
  },
  {
   "cell_type": "code",
   "execution_count": 31,
   "metadata": {},
   "outputs": [
    {
     "data": {
      "text/plain": [
       "10"
      ]
     },
     "execution_count": 31,
     "metadata": {},
     "output_type": "execute_result"
    }
   ],
   "source": [
    "# returs the length of list\n",
    "len(mylist)"
   ]
  },
  {
   "cell_type": "code",
   "execution_count": 32,
   "metadata": {},
   "outputs": [
    {
     "name": "stdout",
     "output_type": "stream",
     "text": [
      "3\n",
      "[3, 4, 5, 6, 7, 8, 9, 10]\n",
      "[3, 5, 7, 9]\n",
      "[1, 2, 3, 4, 5, 6, 7, 8, 9, 10, 'Python', 3.6, 2021]\n"
     ]
    }
   ],
   "source": [
    "# return the object at that index\n",
    "print(mylist[2])\n",
    "\n",
    "# Slice the list similar to String\n",
    "print(mylist[2:])\n",
    "print(mylist[2:10:2])\n",
    "\n",
    "# Concatenate lists\n",
    "print(mylist + myList_different_types)"
   ]
  },
  {
   "cell_type": "code",
   "execution_count": 33,
   "metadata": {},
   "outputs": [
    {
     "name": "stdout",
     "output_type": "stream",
     "text": [
      "[1, 2, 3, 30, 5, 6, 7, 8, 9, 10]\n",
      "[1, 2, 3, 30, 5, 6, 7, 8, 9, 10, 'hello']\n"
     ]
    }
   ],
   "source": [
    "#List is mutable (unlike strings) and elements in the list could be reassgined\n",
    "\n",
    "mylist[3]=30\n",
    "print(mylist)\n",
    "\n",
    "#Appends an object to the end of the list\n",
    "mylist.append(\"hello\")\n",
    "print(mylist)\n",
    "\n"
   ]
  },
  {
   "cell_type": "code",
   "execution_count": 34,
   "metadata": {},
   "outputs": [
    {
     "name": "stdout",
     "output_type": "stream",
     "text": [
      "hello\n",
      "[1, 2, 3, 30, 5, 6, 7, 8, 9, 10]\n",
      "1\n",
      "[2, 3, 30, 5, 6, 7, 8, 9, 10]\n"
     ]
    }
   ],
   "source": [
    "#removes the last element in the list and returns the popped element\n",
    "print(mylist.pop())\n",
    "print(mylist)\n",
    "\n",
    "#passing the index pops the element at that index, negative index works similar to String method\n",
    "print(mylist.pop(0))\n",
    "print(mylist)"
   ]
  },
  {
   "cell_type": "code",
   "execution_count": 35,
   "metadata": {},
   "outputs": [
    {
     "name": "stdout",
     "output_type": "stream",
     "text": [
      "[2, 3, 5, 6, 7, 8, 9, 10, 30]\n"
     ]
    }
   ],
   "source": [
    "#sort the list - happens inline, does't return an object\n",
    "mylist.sort()\n",
    "print(mylist)"
   ]
  },
  {
   "cell_type": "code",
   "execution_count": 36,
   "metadata": {},
   "outputs": [
    {
     "name": "stdout",
     "output_type": "stream",
     "text": [
      "[30, 10, 9, 8, 7, 6, 5, 3, 2]\n"
     ]
    }
   ],
   "source": [
    "#Reverse a list\n",
    "mylist.reverse()\n",
    "print(mylist)"
   ]
  },
  {
   "cell_type": "markdown",
   "metadata": {},
   "source": [
    "# Dictionaries\n",
    "- unordered mappings for storing objects\n",
    "- Dictionaries use key-value pairs\n",
    "- key is used to fetch the corresponding value without knowing the index location\n",
    "- Syntax : {\"key -1\": \"value-1\", \"key - 2\":\"value - 2\"}\n",
    "\n",
    "\n",
    "- Pick the list when we need want to index/slice/sort\n",
    "- Pick the dictionary when we want to retrieve without index - we won't be able to sort\n"
   ]
  },
  {
   "cell_type": "code",
   "execution_count": 37,
   "metadata": {},
   "outputs": [],
   "source": [
    "myDict = {'key-1':'value-1', 'key-2':'value-2', 'key-1':'value-3'}"
   ]
  },
  {
   "cell_type": "code",
   "execution_count": 38,
   "metadata": {},
   "outputs": [
    {
     "name": "stdout",
     "output_type": "stream",
     "text": [
      "{'key-1': 'value-3', 'key-2': 'value-2'}\n",
      "value-3\n"
     ]
    }
   ],
   "source": [
    "#lookup based on the key \n",
    "print(myDict)\n",
    "print(myDict['key-1'])"
   ]
  },
  {
   "cell_type": "code",
   "execution_count": 39,
   "metadata": {},
   "outputs": [],
   "source": [
    "myDictDiffDataTypes = {'k1':100, 'k2':[10,13,'python'], 'k3':{'1':1, '2':2}}"
   ]
  },
  {
   "cell_type": "code",
   "execution_count": 40,
   "metadata": {},
   "outputs": [
    {
     "name": "stdout",
     "output_type": "stream",
     "text": [
      "{'k1': 100, 'k2': [10, 13, 'python'], 'k3': {'1': 1, '2': 2}}\n",
      "13\n",
      "2\n",
      "PYTHON\n"
     ]
    }
   ],
   "source": [
    "#lookup based on the key - Stacking the index calls and key calls would help looking up the nested objects\n",
    "print(myDictDiffDataTypes)\n",
    "print(myDictDiffDataTypes['k2'][1])\n",
    "print(myDictDiffDataTypes['k3']['2'])\n",
    "print(myDictDiffDataTypes['k2'][2].upper()) # methods could be called based on the datatype"
   ]
  },
  {
   "cell_type": "code",
   "execution_count": 41,
   "metadata": {},
   "outputs": [
    {
     "data": {
      "text/plain": [
       "{'k1': 100, 'k2': 200, 'k3': 300}"
      ]
     },
     "execution_count": 41,
     "metadata": {},
     "output_type": "execute_result"
    }
   ],
   "source": [
    "newDict = {'k1':100, 'k2':200}\n",
    "newDict['k3']=300 # adding a new key-value pair to dictionaty\n",
    "newDict"
   ]
  },
  {
   "cell_type": "code",
   "execution_count": 42,
   "metadata": {},
   "outputs": [
    {
     "name": "stdout",
     "output_type": "stream",
     "text": [
      "dict_keys(['k1', 'k2', 'k3'])\n",
      "dict_values([100, 200, 300])\n",
      "dict_items([('k1', 100), ('k2', 200), ('k3', 300)])\n"
     ]
    }
   ],
   "source": [
    "# Dictionary Methods \n",
    "\n",
    "print(newDict.keys()) # returns all the keys\n",
    "print(newDict.values()) # returns all the values\n",
    "print(newDict.items()) # returns all the items"
   ]
  },
  {
   "cell_type": "markdown",
   "metadata": {},
   "source": [
    "# Tuples\n",
    "- Similar to list - they are immutable\n",
    "- syntax : {1,2,3}"
   ]
  },
  {
   "cell_type": "code",
   "execution_count": 57,
   "metadata": {},
   "outputs": [],
   "source": [
    "myTuple = (1,2,3,1,[1,2])"
   ]
  },
  {
   "cell_type": "code",
   "execution_count": 58,
   "metadata": {},
   "outputs": [
    {
     "data": {
      "text/plain": [
       "5"
      ]
     },
     "execution_count": 58,
     "metadata": {},
     "output_type": "execute_result"
    }
   ],
   "source": [
    "len(myTuple)"
   ]
  },
  {
   "cell_type": "code",
   "execution_count": 60,
   "metadata": {},
   "outputs": [
    {
     "name": "stdout",
     "output_type": "stream",
     "text": [
      "(1, 2, 3, 1, ['list in tuple', 2, 'added new value', 'added new value'])\n"
     ]
    }
   ],
   "source": [
    "# A tuple cannot be reassgined but the mutable objects within tuple can be reassgined.\n",
    "myTuple[4][0]='list in tuple'\n",
    "myTuple[4].append('added new value')\n",
    "print(myTuple)"
   ]
  },
  {
   "cell_type": "code",
   "execution_count": 61,
   "metadata": {},
   "outputs": [
    {
     "name": "stdout",
     "output_type": "stream",
     "text": [
      "1\n",
      "['list in tuple', 2, 'added new value', 'added new value']\n"
     ]
    }
   ],
   "source": [
    "print(myTuple[0]) # To print an element in the Tuple\n",
    "print(myTuple[-1]) # Supports negative indexng as well"
   ]
  },
  {
   "cell_type": "code",
   "execution_count": 63,
   "metadata": {},
   "outputs": [
    {
     "name": "stdout",
     "output_type": "stream",
     "text": [
      "2\n",
      "1\n"
     ]
    }
   ],
   "source": [
    "# Methods\n",
    "\n",
    "print(myTuple.count(1)) # Returns the occurance of element 1 in the tuple\n",
    "\n",
    "print(myTuple.index(2)) # Return the first index of the element 1 in the tuple"
   ]
  },
  {
   "cell_type": "markdown",
   "metadata": {},
   "source": [
    "# Sets\n",
    "\n",
    "- Unordered collections of unique elements"
   ]
  },
  {
   "cell_type": "code",
   "execution_count": 64,
   "metadata": {},
   "outputs": [],
   "source": [
    "myset = set()\n",
    "myset.add(1)"
   ]
  },
  {
   "cell_type": "code",
   "execution_count": 65,
   "metadata": {},
   "outputs": [
    {
     "data": {
      "text/plain": [
       "{1}"
      ]
     },
     "execution_count": 65,
     "metadata": {},
     "output_type": "execute_result"
    }
   ],
   "source": [
    "myset"
   ]
  },
  {
   "cell_type": "code",
   "execution_count": 68,
   "metadata": {},
   "outputs": [
    {
     "data": {
      "text/plain": [
       "{1, 2, 3, 4, 41, 50, 900}"
      ]
     },
     "execution_count": 68,
     "metadata": {},
     "output_type": "execute_result"
    }
   ],
   "source": [
    "mytrialist=[900,50,1,1,1,1,3,1,3,2,2,3,41,4,1,4]\n",
    "set(mytrialist) # return the unique values in the list"
   ]
  },
  {
   "cell_type": "markdown",
   "metadata": {},
   "source": [
    "# Basic File I/O\n",
    "- "
   ]
  },
  {
   "cell_type": "code",
   "execution_count": 69,
   "metadata": {},
   "outputs": [
    {
     "name": "stdout",
     "output_type": "stream",
     "text": [
      "Writing myfile.txt\n"
     ]
    }
   ],
   "source": [
    "%%writefile myfile.txt\n",
    "Hello this is a text file\n",
    "this is a second line\n",
    "this is a third line"
   ]
  },
  {
   "cell_type": "code",
   "execution_count": null,
   "metadata": {},
   "outputs": [],
   "source": []
  },
  {
   "cell_type": "code",
   "execution_count": null,
   "metadata": {},
   "outputs": [],
   "source": []
  }
 ],
 "metadata": {
  "kernelspec": {
   "display_name": "Python 3",
   "language": "python",
   "name": "python3"
  },
  "language_info": {
   "codemirror_mode": {
    "name": "ipython",
    "version": 3
   },
   "file_extension": ".py",
   "mimetype": "text/x-python",
   "name": "python",
   "nbconvert_exporter": "python",
   "pygments_lexer": "ipython3",
   "version": "3.8.5"
  }
 },
 "nbformat": 4,
 "nbformat_minor": 4
}
